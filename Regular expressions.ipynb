{
 "cells": [
  {
   "cell_type": "code",
   "execution_count": 1,
   "metadata": {},
   "outputs": [
    {
     "name": "stdout",
     "output_type": "stream",
     "text": [
      "Searcing for Hello in: \n",
      " Hello, my name is Karthik!\n",
      "\n",
      " Match found \n",
      "\n",
      "Searcing for Bonjour in: \n",
      " Hello, my name is Karthik!\n",
      "\n",
      " Match not found \n",
      "\n"
     ]
    }
   ],
   "source": [
    "import re\n",
    "\n",
    "patterns = ['Hello','Bonjour']\n",
    "\n",
    "text = \"Hello, my name is Karthik!\"\n",
    "\n",
    "for pattern in patterns:\n",
    "    print 'Searcing for %s in: \\n %s'%(pattern, text)\n",
    "    if re.search(pattern, text):\n",
    "        print '\\n Match found \\n'\n",
    "    else:\n",
    "        print '\\n Match not found \\n'"
   ]
  },
  {
   "cell_type": "code",
   "execution_count": 6,
   "metadata": {},
   "outputs": [
    {
     "data": {
      "text/plain": [
       "_sre.SRE_Match"
      ]
     },
     "execution_count": 6,
     "metadata": {},
     "output_type": "execute_result"
    }
   ],
   "source": [
    "pattern = \"term1\"\n",
    "\n",
    "text = \"This string contains term1 and no other match\"\n",
    "\n",
    "match = re.search(pattern , text)\n",
    "\n",
    "type(match)"
   ]
  },
  {
   "cell_type": "code",
   "execution_count": 7,
   "metadata": {},
   "outputs": [
    {
     "data": {
      "text/plain": [
       "21"
      ]
     },
     "execution_count": 7,
     "metadata": {},
     "output_type": "execute_result"
    }
   ],
   "source": [
    "match.start()"
   ]
  },
  {
   "cell_type": "code",
   "execution_count": 8,
   "metadata": {},
   "outputs": [
    {
     "data": {
      "text/plain": [
       "26"
      ]
     },
     "execution_count": 8,
     "metadata": {},
     "output_type": "execute_result"
    }
   ],
   "source": [
    "match.end()"
   ]
  },
  {
   "cell_type": "code",
   "execution_count": null,
   "metadata": {
    "collapsed": true
   },
   "outputs": [],
   "source": []
  }
 ],
 "metadata": {
  "kernelspec": {
   "display_name": "Python 2",
   "language": "python",
   "name": "python2"
  },
  "language_info": {
   "codemirror_mode": {
    "name": "ipython",
    "version": 2
   },
   "file_extension": ".py",
   "mimetype": "text/x-python",
   "name": "python",
   "nbconvert_exporter": "python",
   "pygments_lexer": "ipython2",
   "version": "2.7.14"
  }
 },
 "nbformat": 4,
 "nbformat_minor": 2
}
